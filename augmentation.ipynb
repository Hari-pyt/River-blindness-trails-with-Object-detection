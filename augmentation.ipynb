{
 "cells": [
  {
   "cell_type": "code",
   "execution_count": 5,
   "metadata": {},
   "outputs": [],
   "source": [
    "# Copyright (c) OpenMMLab. All rights reserved.\n",
    "import argparse\n",
    "import os\n",
    "from collections import Sequence\n",
    "from pathlib import Path\n",
    "\n",
    "import mmcv\n",
    "import numpy as np\n",
    "from mmcv import Config, DictAction\n",
    "from mmcv.image import imwrite\n",
    "\n",
    "from mmdet.core.utils import mask2ndarray\n",
    "from mmdet.core.visualization import imshow_det_bboxes\n",
    "from mmdet.datasets.builder import build_dataset\n",
    "from mmdet.utils import replace_cfg_vals, update_data_root\n",
    "\n",
    "import pandas as pd\n",
    "import numpy as np\n",
    "from tqdm import tqdm"
   ]
  },
  {
   "cell_type": "code",
   "execution_count": 6,
   "metadata": {},
   "outputs": [],
   "source": [
    "def retrieve_data_cfg(config_path, skip_type, cfg_options):\n",
    "\n",
    "    def skip_pipeline_steps(config):\n",
    "        # skipping steps like normalization and defaultformat bundle, as they arent useful in creating augmented data\n",
    "        config['pipeline'] = [\n",
    "            x for x in config.pipeline if x['type'] not in skip_type\n",
    "        ]\n",
    "\n",
    "    cfg = Config.fromfile(config_path)\n",
    "\n",
    "    # replace the ${key} with the value of cfg.key\n",
    "    cfg = replace_cfg_vals(cfg)\n",
    "\n",
    "    # update data root according to MMDET_DATASETS\n",
    "    update_data_root(cfg)\n",
    "\n",
    "    if cfg_options is not None:\n",
    "        cfg.merge_from_dict(cfg_options)\n",
    "    train_data_cfg = cfg.data.train\n",
    "    while 'dataset' in train_data_cfg and train_data_cfg[\n",
    "            'type'] != 'MultiImageMixDataset':\n",
    "        train_data_cfg = train_data_cfg['dataset']\n",
    "\n",
    "    if isinstance(train_data_cfg, Sequence):\n",
    "        [skip_pipeline_steps(c) for c in train_data_cfg]\n",
    "    else:\n",
    "        skip_pipeline_steps(train_data_cfg)\n",
    "\n",
    "    return cfg"
   ]
  },
  {
   "cell_type": "code",
   "execution_count": 7,
   "metadata": {},
   "outputs": [],
   "source": [
    "def bulid_section_id(x):\n",
    "\n",
    "    name = \"{}@{}-{}-{}-{}\"\n",
    "    return name.format(x['file_name'], x['x_min'], x['x_max'],  x['y_min'], x['y_max'])  "
   ]
  },
  {
   "cell_type": "code",
   "execution_count": 8,
   "metadata": {},
   "outputs": [
    {
     "name": "stdout",
     "output_type": "stream",
     "text": [
      "[{'type': 'RandomAffine', 'scaling_ratio_range': (0.8, 2)}, {'type': 'Albu', 'transforms': [{'type': 'ShiftScaleRotate', 'shift_limit': 0.0625, 'scale_limit': 0.0, 'rotate_limit': 0, 'interpolation': 1, 'p': 0.5}, {'type': 'RandomBrightnessContrast', 'brightness_limit': [0.1, 0.3], 'contrast_limit': [0.1, 0.3], 'p': 0.2}, {'type': 'OneOf', 'transforms': [{'type': 'Blur', 'blur_limit': 3, 'p': 1.0}, {'type': 'MedianBlur', 'blur_limit': 3, 'p': 1.0}], 'p': 0.5}], 'bbox_params': {'type': 'BboxParams', 'format': 'pascal_voc', 'label_fields': ['gt_labels'], 'min_visibility': 0.0, 'filter_lost_elements': True}, 'keymap': {'img': 'image', 'gt_masks': 'masks', 'gt_bboxes': 'bboxes'}, 'update_pad_shape': False, 'skip_img_without_anno': False}, {'type': 'Resize', 'img_scale': (5120, 5120)}]\n",
      "loading annotations into memory...\n",
      "Done (t=0.43s)\n",
      "creating index...\n",
      "index created!\n"
     ]
    },
    {
     "name": "stderr",
     "output_type": "stream",
     "text": [
      "100%|██████████| 891/891 [36:24<00:00,  2.45s/it]\n"
     ]
    }
   ],
   "source": [
    "#args = parse_args()\n",
    "cfg = retrieve_data_cfg('augmentation_randomAffine+albu.py', ['DefaultFormatBundle', 'Normalize', 'Collect'] , None)\n",
    "\n",
    "if 'gt_semantic_seg' in cfg.train_pipeline[-1]['keys']:\n",
    "    cfg.data.train.pipeline = [\n",
    "        p for p in cfg.data.train.pipeline if p['type'] != 'SegRescale'\n",
    "   ]\n",
    "    \n",
    "print(cfg.data.train.pipeline)\n",
    "dataset = build_dataset(cfg.data.train)\n",
    "\n",
    "# progress_bar = mmcv.ProgressBar(len(dataset))\n",
    "df_holder = []\n",
    "count = 0\n",
    "\n",
    "for item in tqdm(dataset):\n",
    "    filename = os.path.join('../data/jpgs2/ra/',\n",
    "                            'ra_'+Path(item['filename']).name\n",
    "                            )\n",
    "    \n",
    "    \n",
    "    gt_bboxes = item['gt_bboxes']\n",
    "    gt_labels = item['gt_labels']\n",
    "    gt_masks = item.get('gt_masks', None)\n",
    "    \n",
    "    if len(gt_bboxes) >0:\n",
    "        \n",
    "        # writing the augmented images\n",
    "        imwrite(item['img'], filename)\n",
    "        # taking the new augmented bounding boxes\n",
    "        temp_df = pd.DataFrame(item['gt_bboxes'], columns = ['x_min', 'y_min', 'x_max', 'y_max'])\n",
    "        temp_df['file_name'] = 'ra_'+Path(item['filename']).name\n",
    "        height, width, channels = item['img'].shape\n",
    "        temp_df['height'] = height\n",
    "        temp_df['width'] = width\n",
    "        temp_df['section_id'] = temp_df.apply(lambda x : bulid_section_id(x), axis=1)\n",
    "        temp_df['staining'] = 'dummy'\n",
    "        df_holder.append(temp_df)\n",
    "        \n",
    "\n"
   ]
  },
  {
   "cell_type": "code",
   "execution_count": 11,
   "metadata": {},
   "outputs": [],
   "source": [
    "gt_df = pd.concat(df_holder, axis = 0)\n",
    "\n",
    "gt_df.to_csv('../data/jpgs2/ra/ra_train.csv')"
   ]
  },
  {
   "cell_type": "code",
   "execution_count": 22,
   "metadata": {},
   "outputs": [
    {
     "data": {
      "text/plain": [
       "{'img_info': {'height': 8192,\n",
       "  'width': 6024,\n",
       "  'id': 36,\n",
       "  'file_name': '117_D.jpg',\n",
       "  'filename': '117_D.jpg'},\n",
       " 'ann_info': {'bboxes': array([[2251., 4736., 2444., 4979.],\n",
       "         [2296., 4499., 3059., 5016.],\n",
       "         [2395., 4976., 2916., 5333.],\n",
       "         [2574., 4254., 2802., 4502.],\n",
       "         [2614., 2930., 3066., 3347.],\n",
       "         [2683., 4394., 2976., 4619.],\n",
       "         [2770., 3207., 3248., 3982.],\n",
       "         [2829., 2429., 3670., 3119.],\n",
       "         [2843., 2687., 3427., 3013.],\n",
       "         [2879., 4306., 3050., 4520.],\n",
       "         [2925., 4192., 3319., 4485.],\n",
       "         [3177., 2972., 3864., 3468.],\n",
       "         [3192., 3196., 3492., 3450.],\n",
       "         [3217., 3355., 3764., 4036.],\n",
       "         [3237., 4388., 3969., 5002.],\n",
       "         [3685., 4568., 3997., 4760.],\n",
       "         [3722., 3472., 4235., 3800.],\n",
       "         [3833., 3190., 4192., 3500.],\n",
       "         [4246., 3708., 4527., 4218.],\n",
       "         [4255., 2971., 4454., 3251.],\n",
       "         [4357., 3265., 4535., 3518.]], dtype=float32),\n",
       "  'labels': array([0, 0, 0, 0, 0, 0, 0, 0, 0, 0, 0, 0, 0, 0, 0, 0, 0, 0, 0, 0, 0]),\n",
       "  'bboxes_ignore': array([], shape=(0, 4), dtype=float32),\n",
       "  'masks': [[],\n",
       "   [],\n",
       "   [],\n",
       "   [],\n",
       "   [],\n",
       "   [],\n",
       "   [],\n",
       "   [],\n",
       "   [],\n",
       "   [],\n",
       "   [],\n",
       "   [],\n",
       "   [],\n",
       "   [],\n",
       "   [],\n",
       "   [],\n",
       "   [],\n",
       "   [],\n",
       "   [],\n",
       "   [],\n",
       "   []],\n",
       "  'seg_map': '117_D.png'},\n",
       " 'img_prefix': '/root/data/gdsc5-tutorials-public/data/jpgs/',\n",
       " 'seg_prefix': None,\n",
       " 'proposal_file': None,\n",
       " 'bbox_fields': ['gt_bboxes_ignore', 'gt_bboxes'],\n",
       " 'mask_fields': [],\n",
       " 'seg_fields': [],\n",
       " 'filename': '/root/data/gdsc5-tutorials-public/data/jpgs/117_D.jpg',\n",
       " 'ori_filename': '117_D.jpg',\n",
       " 'img': array([[[114, 114, 114],\n",
       "         [114, 114, 114],\n",
       "         [114, 114, 114],\n",
       "         ...,\n",
       "         [  0,   0,   0],\n",
       "         [  0,   0,   0],\n",
       "         [  0,   0,   0]],\n",
       " \n",
       "        [[114, 114, 114],\n",
       "         [114, 114, 114],\n",
       "         [114, 114, 114],\n",
       "         ...,\n",
       "         [  0,   0,   0],\n",
       "         [  0,   0,   0],\n",
       "         [  0,   0,   0]],\n",
       " \n",
       "        [[114, 114, 114],\n",
       "         [114, 114, 114],\n",
       "         [114, 114, 114],\n",
       "         ...,\n",
       "         [  0,   0,   0],\n",
       "         [  0,   0,   0],\n",
       "         [  0,   0,   0]],\n",
       " \n",
       "        ...,\n",
       " \n",
       "        [[208, 207, 213],\n",
       "         [210, 207, 217],\n",
       "         [209, 204, 214],\n",
       "         ...,\n",
       "         [  0,   0,   0],\n",
       "         [  0,   0,   0],\n",
       "         [  0,   0,   0]],\n",
       " \n",
       "        [[211, 209, 215],\n",
       "         [204, 201, 210],\n",
       "         [214, 209, 218],\n",
       "         ...,\n",
       "         [  0,   0,   0],\n",
       "         [  0,   0,   0],\n",
       "         [  0,   0,   0]],\n",
       " \n",
       "        [[215, 213, 219],\n",
       "         [207, 203, 210],\n",
       "         [214, 209, 216],\n",
       "         ...,\n",
       "         [  0,   0,   0],\n",
       "         [  0,   0,   0],\n",
       "         [  0,   0,   0]]], dtype=uint8),\n",
       " 'img_shape': (3072, 904, 3),\n",
       " 'ori_shape': (8192, 6024, 3),\n",
       " 'img_fields': ['img'],\n",
       " 'gt_bboxes': array([], shape=(0, 4), dtype=float32),\n",
       " 'gt_bboxes_ignore': array([], shape=(0, 4), dtype=float32),\n",
       " 'gt_labels': array([], dtype=int64),\n",
       " 'pad_shape': (3072, 928, 3),\n",
       " 'pad_fixed_size': None,\n",
       " 'pad_size_divisor': 32}"
      ]
     },
     "execution_count": 22,
     "metadata": {},
     "output_type": "execute_result"
    }
   ],
   "source": [
    "item"
   ]
  },
  {
   "cell_type": "code",
   "execution_count": 16,
   "metadata": {},
   "outputs": [
    {
     "data": {
      "text/plain": [
       "315"
      ]
     },
     "execution_count": 16,
     "metadata": {},
     "output_type": "execute_result"
    }
   ],
   "source": [
    "len(item['gt_bboxes'])"
   ]
  },
  {
   "cell_type": "code",
   "execution_count": null,
   "metadata": {},
   "outputs": [],
   "source": []
  }
 ],
 "metadata": {
  "instance_type": "ml.g4dn.xlarge",
  "interpreter": {
   "hash": "0e1dd59bcc72e4774a40936d3cead7a89f28ea3d0929c42b28369e7650240f70"
  },
  "kernelspec": {
   "display_name": "Python 3 (ipykernel)",
   "language": "python",
   "name": "python3"
  },
  "language_info": {
   "codemirror_mode": {
    "name": "ipython",
    "version": 3
   },
   "file_extension": ".py",
   "mimetype": "text/x-python",
   "name": "python",
   "nbconvert_exporter": "python",
   "pygments_lexer": "ipython3",
   "version": "3.10.4"
  }
 },
 "nbformat": 4,
 "nbformat_minor": 4
}
